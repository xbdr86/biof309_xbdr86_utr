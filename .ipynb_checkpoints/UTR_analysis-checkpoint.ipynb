{
 "cells": [
  {
   "cell_type": "markdown",
   "metadata": {},
   "source": [
    "### 3'UTR analysis\n",
    "The three prime untranslated region (3'-UTR) is the section of messenger RNA (mRNA) that immediately follows the translation termination codon. The 3'-UTR often contains regulatory regions that post-transcriptionally influence gene expression, such as [microRNA (miRNA)](https://en.wikipedia.org/wiki/MicroRNA) binding sites.\n",
    "![](figures/640px-MRNA_structure.svg.png)\n",
    "(Adapted from Wikipedia: https://en.wikipedia.org/wiki/Three_prime_untranslated_region)"
   ]
  },
  {
   "cell_type": "markdown",
   "metadata": {},
   "source": [
    "We start by importing the necessary packages"
   ]
  },
  {
   "cell_type": "code",
   "execution_count": 1,
   "metadata": {},
   "outputs": [],
   "source": [
    "import os #directories package\n",
    "import pandas as pd #pandas package similar to R dataframe\n",
    "import matplotlib.pyplot as plt # Import matplotlib.pyplot as plt\n",
    "import numpy as np"
   ]
  },
  {
   "cell_type": "markdown",
   "metadata": {},
   "source": [
    "Set up here where the 3'UTR data is located in your local directory"
   ]
  },
  {
   "cell_type": "code",
   "execution_count": 2,
   "metadata": {},
   "outputs": [
    {
     "name": "stdout",
     "output_type": "stream",
     "text": [
      "Current Working Directory  /Users/bofillderosf/0_jupyter_notebooks/data\n"
     ]
    }
   ],
   "source": [
    "#Change current directory in Python\n",
    "os.chdir(\"/Users/bofillderosf/0_jupyter_notebooks/data/\")\n",
    "print(\"Current Working Directory \" , os.getcwd())"
   ]
  },
  {
   "cell_type": "markdown",
   "metadata": {},
   "source": [
    "Load the 3'UTR sequences"
   ]
  },
  {
   "cell_type": "code",
   "execution_count": 3,
   "metadata": {},
   "outputs": [
    {
     "data": {
      "text/html": [
       "<div>\n",
       "<style scoped>\n",
       "    .dataframe tbody tr th:only-of-type {\n",
       "        vertical-align: middle;\n",
       "    }\n",
       "\n",
       "    .dataframe tbody tr th {\n",
       "        vertical-align: top;\n",
       "    }\n",
       "\n",
       "    .dataframe thead th {\n",
       "        text-align: right;\n",
       "    }\n",
       "</style>\n",
       "<table border=\"1\" class=\"dataframe\">\n",
       "  <thead>\n",
       "    <tr style=\"text-align: right;\">\n",
       "      <th></th>\n",
       "      <th>Gene</th>\n",
       "      <th>Sequence</th>\n",
       "    </tr>\n",
       "  </thead>\n",
       "  <tbody>\n",
       "    <tr>\n",
       "      <th>0</th>\n",
       "      <td>CDR1as</td>\n",
       "      <td>GUUUCCGAUGGCACCUGUGUCAAGGUCUUCCAACAACUCCGGGUCU...</td>\n",
       "    </tr>\n",
       "    <tr>\n",
       "      <th>1</th>\n",
       "      <td>ARF5</td>\n",
       "      <td>CCAGCCAGGGGCAGGCCCCUGAUGCCCGGAAGCUCCUGCGUGCAUC...</td>\n",
       "    </tr>\n",
       "    <tr>\n",
       "      <th>2</th>\n",
       "      <td>M6PR</td>\n",
       "      <td>AUUGCACUUUAUAUGUCCAGCCUCUUCCUCAGUCCCCCAAACCAAA...</td>\n",
       "    </tr>\n",
       "    <tr>\n",
       "      <th>3</th>\n",
       "      <td>FKBP4</td>\n",
       "      <td>CCCCUCUCCACCAGCCCUACUCCUGCGGCUGCCUGCCCCCCAGUCU...</td>\n",
       "    </tr>\n",
       "  </tbody>\n",
       "</table>\n",
       "</div>"
      ],
      "text/plain": [
       "     Gene                                           Sequence\n",
       "0  CDR1as  GUUUCCGAUGGCACCUGUGUCAAGGUCUUCCAACAACUCCGGGUCU...\n",
       "1    ARF5  CCAGCCAGGGGCAGGCCCCUGAUGCCCGGAAGCUCCUGCGUGCAUC...\n",
       "2    M6PR  AUUGCACUUUAUAUGUCCAGCCUCUUCCUCAGUCCCCCAAACCAAA...\n",
       "3   FKBP4  CCCCUCUCCACCAGCCCUACUCCUGCGGCUGCCUGCCCCCCAGUCU..."
      ]
     },
     "execution_count": 3,
     "metadata": {},
     "output_type": "execute_result"
    }
   ],
   "source": [
    "file = 'human_3UTR.txt' #smaller of 'UTR_sequences_all_Gene_Symbol.txt'\n",
    "utr = pd.read_csv(file, sep='\\t', names = [\"Gene\", \"Sequence\"])\n",
    "utr.head(n=4)"
   ]
  },
  {
   "cell_type": "markdown",
   "metadata": {},
   "source": [
    "The analysis performed is the mapping of miRNA seed sites, where miRNA bind by base-pair complementarity"
   ]
  },
  {
   "cell_type": "code",
   "execution_count": 4,
   "metadata": {},
   "outputs": [
    {
     "data": {
      "text/html": [
       "<div>\n",
       "<style scoped>\n",
       "    .dataframe tbody tr th:only-of-type {\n",
       "        vertical-align: middle;\n",
       "    }\n",
       "\n",
       "    .dataframe tbody tr th {\n",
       "        vertical-align: top;\n",
       "    }\n",
       "\n",
       "    .dataframe thead th {\n",
       "        text-align: right;\n",
       "    }\n",
       "</style>\n",
       "<table border=\"1\" class=\"dataframe\">\n",
       "  <thead>\n",
       "    <tr style=\"text-align: right;\">\n",
       "      <th></th>\n",
       "      <th>Gene</th>\n",
       "      <th>Sequence</th>\n",
       "      <th>Len_UTR</th>\n",
       "      <th>N_miR222</th>\n",
       "      <th>N_miR769</th>\n",
       "      <th>N_miR7</th>\n",
       "    </tr>\n",
       "  </thead>\n",
       "  <tbody>\n",
       "    <tr>\n",
       "      <th>0</th>\n",
       "      <td>CDR1as</td>\n",
       "      <td>GUUUCCGAUGGCACCUGUGUCAAGGUCUUCCAACAACUCCGGGUCU...</td>\n",
       "      <td>1.485</td>\n",
       "      <td>0</td>\n",
       "      <td>0</td>\n",
       "      <td>67</td>\n",
       "    </tr>\n",
       "    <tr>\n",
       "      <th>1</th>\n",
       "      <td>ARF5</td>\n",
       "      <td>CCAGCCAGGGGCAGGCCCCUGAUGCCCGGAAGCUCCUGCGUGCAUC...</td>\n",
       "      <td>0.422</td>\n",
       "      <td>0</td>\n",
       "      <td>0</td>\n",
       "      <td>0</td>\n",
       "    </tr>\n",
       "    <tr>\n",
       "      <th>2</th>\n",
       "      <td>M6PR</td>\n",
       "      <td>AUUGCACUUUAUAUGUCCAGCCUCUUCCUCAGUCCCCCAAACCAAA...</td>\n",
       "      <td>1.457</td>\n",
       "      <td>0</td>\n",
       "      <td>0</td>\n",
       "      <td>0</td>\n",
       "    </tr>\n",
       "    <tr>\n",
       "      <th>3</th>\n",
       "      <td>FKBP4</td>\n",
       "      <td>CCCCUCUCCACCAGCCCUACUCCUGCGGCUGCCUGCCCCCCAGUCU...</td>\n",
       "      <td>2.163</td>\n",
       "      <td>0</td>\n",
       "      <td>1</td>\n",
       "      <td>0</td>\n",
       "    </tr>\n",
       "  </tbody>\n",
       "</table>\n",
       "</div>"
      ],
      "text/plain": [
       "     Gene                                           Sequence  Len_UTR  \\\n",
       "0  CDR1as  GUUUCCGAUGGCACCUGUGUCAAGGUCUUCCAACAACUCCGGGUCU...    1.485   \n",
       "1    ARF5  CCAGCCAGGGGCAGGCCCCUGAUGCCCGGAAGCUCCUGCGUGCAUC...    0.422   \n",
       "2    M6PR  AUUGCACUUUAUAUGUCCAGCCUCUUCCUCAGUCCCCCAAACCAAA...    1.457   \n",
       "3   FKBP4  CCCCUCUCCACCAGCCCUACUCCUGCGGCUGCCUGCCCCCCAGUCU...    2.163   \n",
       "\n",
       "   N_miR222  N_miR769  N_miR7  \n",
       "0         0         0      67  \n",
       "1         0         0       0  \n",
       "2         0         0       0  \n",
       "3         0         1       0  "
      ]
     },
     "execution_count": 4,
     "metadata": {},
     "output_type": "execute_result"
    }
   ],
   "source": [
    "#define motif\n",
    "import re\n",
    "# importing module for regex \n",
    "utr[\"Len_UTR\"]= utr[\"Sequence\"].str.len()/1000\n",
    "\n",
    "utr[\"N_miR222\"]= utr[\"Sequence\"].str.count(\"AUGUAGC\", re.I) #mir222_seed\n",
    "utr[\"N_miR769\"]= utr[\"Sequence\"].str.count(\"AGGUCUC\", re.I) #mir769_seed\n",
    "utr[\"N_miR7\"]= utr[\"Sequence\"].str.count(\"GUCUUCC\", re.I) #mir769_seed\n",
    "\n",
    "utr.head(n=4)"
   ]
  },
  {
   "cell_type": "code",
   "execution_count": 5,
   "metadata": {},
   "outputs": [
    {
     "name": "stdout",
     "output_type": "stream",
     "text": [
      "Maximums in each variable:\n",
      "Gene                                             hsa-mir-1199\n",
      "Sequence    UUUUUUUUUUUUUUUUUUGGUGCUCCAGGUAAGGCUAAUAUUUUAG...\n",
      "Len_UTR                                                24.505\n",
      "N_miR222                                                    5\n",
      "N_miR769                                                    4\n",
      "N_miR7                                                     67\n",
      "dtype: object\n"
     ]
    },
    {
     "data": {
      "image/png": "[encoded data removed]",
      "text/plain": [
       "<Figure size 432x288 with 1 Axes>"
      ]
     },
     "metadata": {
      "needs_background": "light"
     },
     "output_type": "display_data"
    }
   ],
   "source": [
    "print(\"Maximums in each variable:\")\n",
    "print(utr.max(axis=0))\n",
    "frequencies = utr.N_miR222\n",
    "\n",
    "plt.hist(frequencies, density=True, range=(1, frequencies.max()),color='black') #avoid plot UTRs with 0 counts\n",
    "plt.title(\"Histogram of miR-222 sites distribution (over0)\")\n",
    "plt.ylabel('Density')\n",
    "plt.xlabel('N counts miRNA')\n",
    "plt.show()"
   ]
  },
  {
   "cell_type": "markdown",
   "metadata": {},
   "source": [
    "##t-SNE implementation to detect miR"
   ]
  },
  {
   "cell_type": "code",
   "execution_count": null,
   "metadata": {},
   "outputs": [],
   "source": [
    "# Import TSNE\n",
    "from sklearn.manifold import TSNE\n"
   ]
  },
  {
   "cell_type": "code",
   "execution_count": null,
   "metadata": {},
   "outputs": [],
   "source": []
  }
 ],
 "metadata": {
  "kernelspec": {
   "display_name": "Python 3",
   "language": "python",
   "name": "python3"
  },
  "language_info": {
   "codemirror_mode": {
    "name": "ipython",
    "version": 3
   },
   "file_extension": ".py",
   "mimetype": "text/x-python",
   "name": "python",
   "nbconvert_exporter": "python",
   "pygments_lexer": "ipython3",
   "version": "3.7.3"
  }
 },
 "nbformat": 4,
 "nbformat_minor": 2
}
