{
 "cells": [
  {
   "cell_type": "markdown",
   "metadata": {},
   "source": [
    "### 3'UTR analysis\n",
    "The three prime untranslated region (3'-UTR) is the section of messenger RNA (mRNA) that immediately follows the translation termination codon. The 3'-UTR often contains regulatory regions that post-transcriptionally influence gene expression, such as [microRNA (miRNA)](https://en.wikipedia.org/wiki/MicroRNA) binding sites.\n",
    "![](figures/640px-MRNA_structure.svg.png)\n",
    "(Adapted from Wikipedia: https://en.wikipedia.org/wiki/Three_prime_untranslated_region)"
   ]
  },
  {
   "cell_type": "markdown",
   "metadata": {},
   "source": [
    "We start by importing the necessary packages"
   ]
  },
  {
   "cell_type": "code",
   "execution_count": 1,
   "metadata": {},
   "outputs": [],
   "source": [
    "import os #directories package\n",
    "import pandas as pd #pandas package similar to R dataframe\n",
    "import matplotlib.pyplot as plt # Import matplotlib.pyplot as plt\n",
    "import numpy as np"
   ]
  },
  {
   "cell_type": "code",
   "execution_count": 2,
   "metadata": {},
   "outputs": [
    {
     "name": "stdout",
     "output_type": "stream",
     "text": [
      "Requirement already satisfied: progressbar in /anaconda3/lib/python3.7/site-packages (2.5)\r\n"
     ]
    }
   ],
   "source": [
    "# Install a pip package in the current Jupyter kernel\n",
    "import sys\n",
    "!{sys.executable} -m pip install progressbar\n",
    "from progressbar import ProgressBar"
   ]
  },
  {
   "cell_type": "markdown",
   "metadata": {},
   "source": [
    "Set up here where the 3'UTR and miRNA data are located in your local directory"
   ]
  },
  {
   "cell_type": "code",
   "execution_count": 3,
   "metadata": {},
   "outputs": [
    {
     "name": "stdout",
     "output_type": "stream",
     "text": [
      "Current Working Directory  /Users/bofillderosf/biof309_xbdr86_utr\n"
     ]
    }
   ],
   "source": [
    "#Change current directory in Python\n",
    "os.chdir(\"/Users/bofillderosf/biof309_xbdr86_utr/\")\n",
    "print(\"Current Working Directory \" , os.getcwd())"
   ]
  },
  {
   "cell_type": "markdown",
   "metadata": {},
   "source": [
    "Load the 3'UTR sequences"
   ]
  },
  {
   "cell_type": "code",
   "execution_count": 4,
   "metadata": {},
   "outputs": [
    {
     "data": {
      "text/html": [
       "<div>\n",
       "<style scoped>\n",
       "    .dataframe tbody tr th:only-of-type {\n",
       "        vertical-align: middle;\n",
       "    }\n",
       "\n",
       "    .dataframe tbody tr th {\n",
       "        vertical-align: top;\n",
       "    }\n",
       "\n",
       "    .dataframe thead th {\n",
       "        text-align: right;\n",
       "    }\n",
       "</style>\n",
       "<table border=\"1\" class=\"dataframe\">\n",
       "  <thead>\n",
       "    <tr style=\"text-align: right;\">\n",
       "      <th></th>\n",
       "      <th>Gene</th>\n",
       "      <th>Sequence</th>\n",
       "    </tr>\n",
       "  </thead>\n",
       "  <tbody>\n",
       "    <tr>\n",
       "      <th>0</th>\n",
       "      <td>CCDC73</td>\n",
       "      <td>GGGGAUUGGUGUUUUUGGGAAUAAAAUGUGACAUUUAUAGUGAAAA...</td>\n",
       "    </tr>\n",
       "    <tr>\n",
       "      <th>1</th>\n",
       "      <td>NIPAL3</td>\n",
       "      <td>GACUCGCCUCCCUCUAUUUAUAACUGUCCCCUCCAGGCUGACAGUG...</td>\n",
       "    </tr>\n",
       "    <tr>\n",
       "      <th>2</th>\n",
       "      <td>AKR1B1</td>\n",
       "      <td>AGCUGUGGUUGCCUGCUCGUCCCCAAGUGACCUAUACCUGUGUUUC...</td>\n",
       "    </tr>\n",
       "    <tr>\n",
       "      <th>3</th>\n",
       "      <td>CTD-2330K9.3</td>\n",
       "      <td>UCUGGGGAUUUUCUAGGCCCCCAGUCCCAUCCAUCAGGACAAUCAA...</td>\n",
       "    </tr>\n",
       "  </tbody>\n",
       "</table>\n",
       "</div>"
      ],
      "text/plain": [
       "           Gene                                           Sequence\n",
       "0        CCDC73  GGGGAUUGGUGUUUUUGGGAAUAAAAUGUGACAUUUAUAGUGAAAA...\n",
       "1        NIPAL3  GACUCGCCUCCCUCUAUUUAUAACUGUCCCCUCCAGGCUGACAGUG...\n",
       "2        AKR1B1  AGCUGUGGUUGCCUGCUCGUCCCCAAGUGACCUAUACCUGUGUUUC...\n",
       "3  CTD-2330K9.3  UCUGGGGAUUUUCUAGGCCCCCAGUCCCAUCCAUCAGGACAAUCAA..."
      ]
     },
     "execution_count": 4,
     "metadata": {},
     "output_type": "execute_result"
    }
   ],
   "source": [
    "utr = pd.read_csv('mini_UTR_set.tsv', sep='\\t', names = [\"Gene\", \"Sequence\"])\n",
    "utr.head(n=4)"
   ]
  },
  {
   "cell_type": "code",
   "execution_count": 5,
   "metadata": {},
   "outputs": [
    {
     "data": {
      "text/html": [
       "<div>\n",
       "<style scoped>\n",
       "    .dataframe tbody tr th:only-of-type {\n",
       "        vertical-align: middle;\n",
       "    }\n",
       "\n",
       "    .dataframe tbody tr th {\n",
       "        vertical-align: top;\n",
       "    }\n",
       "\n",
       "    .dataframe thead th {\n",
       "        text-align: right;\n",
       "    }\n",
       "</style>\n",
       "<table border=\"1\" class=\"dataframe\">\n",
       "  <thead>\n",
       "    <tr style=\"text-align: right;\">\n",
       "      <th></th>\n",
       "      <th>SEED</th>\n",
       "      <th>rev_compl</th>\n",
       "    </tr>\n",
       "  </thead>\n",
       "  <tbody>\n",
       "    <tr>\n",
       "      <th>88</th>\n",
       "      <td>CGTGTCT</td>\n",
       "      <td>AGACACG</td>\n",
       "    </tr>\n",
       "    <tr>\n",
       "      <th>84</th>\n",
       "      <td>TGAATTA</td>\n",
       "      <td>UAAUUCA</td>\n",
       "    </tr>\n",
       "    <tr>\n",
       "      <th>328</th>\n",
       "      <td>GCGCCTG</td>\n",
       "      <td>CAGGCGC</td>\n",
       "    </tr>\n",
       "    <tr>\n",
       "      <th>161</th>\n",
       "      <td>TGGCCAT</td>\n",
       "      <td>AUGGCCA</td>\n",
       "    </tr>\n",
       "  </tbody>\n",
       "</table>\n",
       "</div>"
      ],
      "text/plain": [
       "        SEED rev_compl\n",
       "88   CGTGTCT   AGACACG\n",
       "84   TGAATTA   UAAUUCA\n",
       "328  GCGCCTG   CAGGCGC\n",
       "161  TGGCCAT   AUGGCCA"
      ]
     },
     "execution_count": 5,
     "metadata": {},
     "output_type": "execute_result"
    }
   ],
   "source": [
    "mirna = pd.read_csv('miRNA_target_seed.tsv', sep='\\t')\n",
    "mirna = mirna.sample(n=100, random_state=86)\n",
    "mirna.head(n=4)"
   ]
  },
  {
   "cell_type": "markdown",
   "metadata": {},
   "source": [
    "The analysis performed is the mapping of miRNA seed sites, where miRNA bind by base-pair complementarity"
   ]
  },
  {
   "cell_type": "code",
   "execution_count": 6,
   "metadata": {},
   "outputs": [
    {
     "data": {
      "text/html": [
       "<div>\n",
       "<style scoped>\n",
       "    .dataframe tbody tr th:only-of-type {\n",
       "        vertical-align: middle;\n",
       "    }\n",
       "\n",
       "    .dataframe tbody tr th {\n",
       "        vertical-align: top;\n",
       "    }\n",
       "\n",
       "    .dataframe thead th {\n",
       "        text-align: right;\n",
       "    }\n",
       "</style>\n",
       "<table border=\"1\" class=\"dataframe\">\n",
       "  <thead>\n",
       "    <tr style=\"text-align: right;\">\n",
       "      <th></th>\n",
       "      <th>Gene</th>\n",
       "      <th>Sequence</th>\n",
       "      <th>Len_UTR</th>\n",
       "    </tr>\n",
       "  </thead>\n",
       "  <tbody>\n",
       "    <tr>\n",
       "      <th>0</th>\n",
       "      <td>CCDC73</td>\n",
       "      <td>GGGGAUUGGUGUUUUUGGGAAUAAAAUGUGACAUUUAUAGUGAAAA...</td>\n",
       "      <td>3.627</td>\n",
       "    </tr>\n",
       "    <tr>\n",
       "      <th>1</th>\n",
       "      <td>NIPAL3</td>\n",
       "      <td>GACUCGCCUCCCUCUAUUUAUAACUGUCCCCUCCAGGCUGACAGUG...</td>\n",
       "      <td>3.798</td>\n",
       "    </tr>\n",
       "    <tr>\n",
       "      <th>2</th>\n",
       "      <td>AKR1B1</td>\n",
       "      <td>AGCUGUGGUUGCCUGCUCGUCCCCAAGUGACCUAUACCUGUGUUUC...</td>\n",
       "      <td>0.941</td>\n",
       "    </tr>\n",
       "    <tr>\n",
       "      <th>3</th>\n",
       "      <td>CTD-2330K9.3</td>\n",
       "      <td>UCUGGGGAUUUUCUAGGCCCCCAGUCCCAUCCAUCAGGACAAUCAA...</td>\n",
       "      <td>0.324</td>\n",
       "    </tr>\n",
       "  </tbody>\n",
       "</table>\n",
       "</div>"
      ],
      "text/plain": [
       "           Gene                                           Sequence  Len_UTR\n",
       "0        CCDC73  GGGGAUUGGUGUUUUUGGGAAUAAAAUGUGACAUUUAUAGUGAAAA...    3.627\n",
       "1        NIPAL3  GACUCGCCUCCCUCUAUUUAUAACUGUCCCCUCCAGGCUGACAGUG...    3.798\n",
       "2        AKR1B1  AGCUGUGGUUGCCUGCUCGUCCCCAAGUGACCUAUACCUGUGUUUC...    0.941\n",
       "3  CTD-2330K9.3  UCUGGGGAUUUUCUAGGCCCCCAGUCCCAUCCAUCAGGACAAUCAA...    0.324"
      ]
     },
     "execution_count": 6,
     "metadata": {},
     "output_type": "execute_result"
    }
   ],
   "source": [
    "#define motif\n",
    "import re\n",
    "# importing module for regex \n",
    "utr[\"Len_UTR\"]= utr[\"Sequence\"].str.len()/1000\n",
    "utr.head(n=4)"
   ]
  },
  {
   "cell_type": "code",
   "execution_count": 8,
   "metadata": {},
   "outputs": [
    {
     "name": "stderr",
     "output_type": "stream",
     "text": [
      "100% |########################################################################|\n"
     ]
    },
    {
     "data": {
      "text/html": [
       "<div>\n",
       "<style scoped>\n",
       "    .dataframe tbody tr th:only-of-type {\n",
       "        vertical-align: middle;\n",
       "    }\n",
       "\n",
       "    .dataframe tbody tr th {\n",
       "        vertical-align: top;\n",
       "    }\n",
       "\n",
       "    .dataframe thead th {\n",
       "        text-align: right;\n",
       "    }\n",
       "</style>\n",
       "<table border=\"1\" class=\"dataframe\">\n",
       "  <thead>\n",
       "    <tr style=\"text-align: right;\">\n",
       "      <th></th>\n",
       "      <th>Gene</th>\n",
       "      <th>Sequence</th>\n",
       "      <th>Len_UTR</th>\n",
       "      <th>AGACACG</th>\n",
       "      <th>UAAUUCA</th>\n",
       "      <th>CAGGCGC</th>\n",
       "      <th>AUGGCCA</th>\n",
       "      <th>AAGGGCU</th>\n",
       "      <th>GAGACGG</th>\n",
       "      <th>AUGUUUC</th>\n",
       "      <th>...</th>\n",
       "      <th>GCUGAUU</th>\n",
       "      <th>GUUACAU</th>\n",
       "      <th>GACACAA</th>\n",
       "      <th>CAGGGCA</th>\n",
       "      <th>CGGUACG</th>\n",
       "      <th>CUAUCUU</th>\n",
       "      <th>AGCAAUA</th>\n",
       "      <th>GUACAGG</th>\n",
       "      <th>CUGGGGG</th>\n",
       "      <th>GCUCCCC</th>\n",
       "    </tr>\n",
       "  </thead>\n",
       "  <tbody>\n",
       "    <tr>\n",
       "      <th>0</th>\n",
       "      <td>CCDC73</td>\n",
       "      <td>GGGGAUUGGUGUUUUUGGGAAUAAAAUGUGACAUUUAUAGUGAAAA...</td>\n",
       "      <td>3.627</td>\n",
       "      <td>0</td>\n",
       "      <td>2</td>\n",
       "      <td>0</td>\n",
       "      <td>1</td>\n",
       "      <td>1</td>\n",
       "      <td>0</td>\n",
       "      <td>0</td>\n",
       "      <td>...</td>\n",
       "      <td>1</td>\n",
       "      <td>1</td>\n",
       "      <td>0</td>\n",
       "      <td>0</td>\n",
       "      <td>0</td>\n",
       "      <td>0</td>\n",
       "      <td>1</td>\n",
       "      <td>0</td>\n",
       "      <td>0</td>\n",
       "      <td>0</td>\n",
       "    </tr>\n",
       "    <tr>\n",
       "      <th>1</th>\n",
       "      <td>NIPAL3</td>\n",
       "      <td>GACUCGCCUCCCUCUAUUUAUAACUGUCCCCUCCAGGCUGACAGUG...</td>\n",
       "      <td>3.798</td>\n",
       "      <td>0</td>\n",
       "      <td>0</td>\n",
       "      <td>0</td>\n",
       "      <td>1</td>\n",
       "      <td>1</td>\n",
       "      <td>0</td>\n",
       "      <td>0</td>\n",
       "      <td>...</td>\n",
       "      <td>0</td>\n",
       "      <td>0</td>\n",
       "      <td>0</td>\n",
       "      <td>0</td>\n",
       "      <td>0</td>\n",
       "      <td>0</td>\n",
       "      <td>0</td>\n",
       "      <td>0</td>\n",
       "      <td>0</td>\n",
       "      <td>0</td>\n",
       "    </tr>\n",
       "    <tr>\n",
       "      <th>2</th>\n",
       "      <td>AKR1B1</td>\n",
       "      <td>AGCUGUGGUUGCCUGCUCGUCCCCAAGUGACCUAUACCUGUGUUUC...</td>\n",
       "      <td>0.941</td>\n",
       "      <td>0</td>\n",
       "      <td>0</td>\n",
       "      <td>0</td>\n",
       "      <td>0</td>\n",
       "      <td>0</td>\n",
       "      <td>0</td>\n",
       "      <td>0</td>\n",
       "      <td>...</td>\n",
       "      <td>0</td>\n",
       "      <td>0</td>\n",
       "      <td>0</td>\n",
       "      <td>0</td>\n",
       "      <td>0</td>\n",
       "      <td>0</td>\n",
       "      <td>0</td>\n",
       "      <td>1</td>\n",
       "      <td>0</td>\n",
       "      <td>0</td>\n",
       "    </tr>\n",
       "    <tr>\n",
       "      <th>3</th>\n",
       "      <td>CTD-2330K9.3</td>\n",
       "      <td>UCUGGGGAUUUUCUAGGCCCCCAGUCCCAUCCAUCAGGACAAUCAA...</td>\n",
       "      <td>0.324</td>\n",
       "      <td>0</td>\n",
       "      <td>0</td>\n",
       "      <td>0</td>\n",
       "      <td>0</td>\n",
       "      <td>0</td>\n",
       "      <td>0</td>\n",
       "      <td>0</td>\n",
       "      <td>...</td>\n",
       "      <td>0</td>\n",
       "      <td>0</td>\n",
       "      <td>0</td>\n",
       "      <td>0</td>\n",
       "      <td>0</td>\n",
       "      <td>0</td>\n",
       "      <td>0</td>\n",
       "      <td>0</td>\n",
       "      <td>0</td>\n",
       "      <td>0</td>\n",
       "    </tr>\n",
       "  </tbody>\n",
       "</table>\n",
       "<p>4 rows × 103 columns</p>\n",
       "</div>"
      ],
      "text/plain": [
       "           Gene                                           Sequence  Len_UTR  \\\n",
       "0        CCDC73  GGGGAUUGGUGUUUUUGGGAAUAAAAUGUGACAUUUAUAGUGAAAA...    3.627   \n",
       "1        NIPAL3  GACUCGCCUCCCUCUAUUUAUAACUGUCCCCUCCAGGCUGACAGUG...    3.798   \n",
       "2        AKR1B1  AGCUGUGGUUGCCUGCUCGUCCCCAAGUGACCUAUACCUGUGUUUC...    0.941   \n",
       "3  CTD-2330K9.3  UCUGGGGAUUUUCUAGGCCCCCAGUCCCAUCCAUCAGGACAAUCAA...    0.324   \n",
       "\n",
       "   AGACACG  UAAUUCA  CAGGCGC  AUGGCCA  AAGGGCU  GAGACGG  AUGUUUC  ...  \\\n",
       "0        0        2        0        1        1        0        0  ...   \n",
       "1        0        0        0        1        1        0        0  ...   \n",
       "2        0        0        0        0        0        0        0  ...   \n",
       "3        0        0        0        0        0        0        0  ...   \n",
       "\n",
       "   GCUGAUU  GUUACAU  GACACAA  CAGGGCA  CGGUACG  CUAUCUU  AGCAAUA  GUACAGG  \\\n",
       "0        1        1        0        0        0        0        1        0   \n",
       "1        0        0        0        0        0        0        0        0   \n",
       "2        0        0        0        0        0        0        0        1   \n",
       "3        0        0        0        0        0        0        0        0   \n",
       "\n",
       "   CUGGGGG  GCUCCCC  \n",
       "0        0        0  \n",
       "1        0        0  \n",
       "2        0        0  \n",
       "3        0        0  \n",
       "\n",
       "[4 rows x 103 columns]"
      ]
     },
     "execution_count": 8,
     "metadata": {},
     "output_type": "execute_result"
    }
   ],
   "source": [
    "motifs = mirna['rev_compl']\n",
    "pbar = ProgressBar() #progress bar not to get impatient with the miRNA site search\n",
    "for motif in pbar(motifs):\n",
    "    search = utr[\"Sequence\"].str.count(motif, re.I)\n",
    "    utr[motif] = search\n",
    "utr.head(n=4)"
   ]
  },
  {
   "cell_type": "code",
   "execution_count": 11,
   "metadata": {},
   "outputs": [
    {
     "name": "stdout",
     "output_type": "stream",
     "text": [
      "Maximums in each variable:\n"
     ]
    },
    {
     "data": {
      "image/png": "[encoded data removed]",
      "text/plain": [
       "<Figure size 432x288 with 1 Axes>"
      ]
     },
     "metadata": {
      "needs_background": "light"
     },
     "output_type": "display_data"
    }
   ],
   "source": [
    "#print(\"Maximums in each variable:\")\n",
    "#print(utr.max(axis=0))\n",
    "frequencies = utr.UGCUGCU\n",
    "\n",
    "plt.hist(frequencies, density=True, range=(1, frequencies.max()),color='black') #avoid plot UTRs with 0 counts\n",
    "plt.title(\"Histogram of miR-15 sites distribution (over0)\")\n",
    "plt.ylabel('Density')\n",
    "plt.xlabel('N counts miRNA')\n",
    "plt.show()"
   ]
  },
  {
   "cell_type": "markdown",
   "metadata": {},
   "source": [
    "## t-SNE implementation to detect 3'UTRs with similar miRNA regulation "
   ]
  },
  {
   "cell_type": "code",
   "execution_count": 20,
   "metadata": {},
   "outputs": [
    {
     "data": {
      "image/png": "[encoded data removed]",
      "text/plain": [
       "<Figure size 432x288 with 1 Axes>"
      ]
     },
     "metadata": {
      "needs_background": "light"
     },
     "output_type": "display_data"
    }
   ],
   "source": [
    "# Import TSNE\n",
    "from sklearn.manifold import TSNE\n",
    "\n",
    "# Create a TSNE instance: model\n",
    "model = TSNE(learning_rate=50) \n",
    "\n",
    "#Subset data miRNA sites\n",
    "all_samples = utr.iloc[:, 3:]\n",
    "subset_samples = all_samples.sample(n=500, random_state=86)\n",
    "\n",
    "# Apply fit_transform to samples: tsne_features\n",
    "tsne_features = model.fit_transform(subset_samples)\n",
    "\n",
    "# Select component 1\n",
    "xs = tsne_features[:,0]\n",
    "\n",
    "# Select component 2\n",
    "ys = tsne_features[:,1]\n",
    "\n",
    "# Scatter plot by component 1 and 2\n",
    "plt.scatter(xs, ys, alpha=0.5, color=\"red\") \n",
    "plt.title(\"2D clustering of 100 miRNA seeds on 500 3'UTR randomly selected\")\n",
    "plt.ylabel('t-SNE Component 2')\n",
    "plt.xlabel('t-SNE Component 1')\n",
    "plt.show()"
   ]
  },
  {
   "cell_type": "code",
   "execution_count": null,
   "metadata": {},
   "outputs": [],
   "source": []
  }
 ],
 "metadata": {
  "kernelspec": {
   "display_name": "Python 3",
   "language": "python",
   "name": "python3"
  },
  "language_info": {
   "codemirror_mode": {
    "name": "ipython",
    "version": 3
   },
   "file_extension": ".py",
   "mimetype": "text/x-python",
   "name": "python",
   "nbconvert_exporter": "python",
   "pygments_lexer": "ipython3",
   "version": "3.7.3"
  }
 },
 "nbformat": 4,
 "nbformat_minor": 2
}
